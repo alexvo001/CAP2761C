{
    "metadata": {
        "kernelspec": {
            "name": "SQL",
            "display_name": "SQL",
            "language": "sql"
        },
        "language_info": {
            "name": "sql",
            "version": ""
        }
    },
    "nbformat_minor": 2,
    "nbformat": 4,
    "cells": [
        {
            "cell_type": "markdown",
            "source": [
                "# Set Operators"
            ],
            "metadata": {
                "azdata_cell_guid": "008a112f-bbd3-46b8-92e3-e0416935b6a9"
            },
            "attachments": {}
        },
        {
            "cell_type": "markdown",
            "source": [
                "## Introduction\r\n",
                "\r\n",
                "- Set operators in T-SQL are used to **combine the results of two or more** `SELECT` queries. \r\n",
                "- They are used to work with the output of multiple result sets and return combined data based on specific conditions. \r\n",
                "- These operators are useful for performing <u>union</u> operations, finding <u>differences</u>, or even <u>intersecting</u> data from different queries.\r\n",
                "\r\n",
                "#### Types of Set Operators:\r\n",
                "\r\n",
                "- UNION\r\n",
                "- UNION ALL\r\n",
                "- INTERSECT\r\n",
                "- EXCEPT\r\n",
                "\r\n",
                "#### Important Considerations\r\n",
                "\r\n",
                "- The columns involved in set operations must be compatible in terms of number and data types.\r\n",
                "- Set operations always operate on the entire result set.\r\n",
                "- You can use `ORDER BY` with a set operator, but it <u>can only appear once at the end</u> of the combined query.\r\n",
                "\r\n",
                "#### Performance Considerations\r\n",
                "\r\n",
                "- `UNION` can be slower than `UNION ALL` <u>because it removes duplicates</u>. If duplicates are not important, `UNION ALL` can be **more efficient**.\r\n",
                "- Always ensure that the columns in both queries have <u>matching data type</u>s to avoid errors.\r\n",
                "\r\n",
                "####  Practical Use Cases\r\n",
                "\r\n",
                "- Combining results from different databases or tables.\r\n",
                "- Finding common or distinct records between two data sets.\r\n",
                "- Comparing data sets from different time periods (e.g., sales data from different years).\r\n",
                "\r\n",
                ""
            ],
            "metadata": {
                "azdata_cell_guid": "d3d2e1da-1c4f-43f9-ad2a-95e502ce65e5"
            },
            "attachments": {}
        },
        {
            "cell_type": "markdown",
            "source": [
                "### UNION\r\n",
                "\r\n",
                "- Combines the results of two queries and <u>removes duplicate</u> rows."
            ],
            "metadata": {
                "azdata_cell_guid": "c6d39c5d-9177-4f0c-806b-d7dd48280d69"
            },
            "attachments": {}
        },
        {
            "cell_type": "markdown",
            "source": [
                "### UNION ALL\r\n",
                "\r\n",
                "- Combines the results of two queries, <u>including duplicate</u>."
            ],
            "metadata": {
                "azdata_cell_guid": "18969a5a-3578-4fdc-af86-d9278026af33"
            },
            "attachments": {}
        },
        {
            "cell_type": "markdown",
            "source": [
                "### INTERSECT\r\n",
                "\r\n",
                "- Returns only the rows that are <u>common to both</u> queries."
            ],
            "metadata": {
                "azdata_cell_guid": "be50a0ba-02bc-47a2-8e76-70195bd29cce"
            },
            "attachments": {}
        },
        {
            "cell_type": "markdown",
            "source": [
                "### EXCEPT\r\n",
                "\r\n",
                "- Returns the rows from the first query that do not appear in the second query."
            ],
            "metadata": {
                "azdata_cell_guid": "a6e1e06c-2be9-425a-92ff-cd60a8e0dee2"
            },
            "attachments": {}
        },
        {
            "cell_type": "markdown",
            "source": [
                "# Precedence\r\n",
                "\r\n",
                "- The `INTERSECT` operator <u>precedes</u> `UNION` and `EXCEPT`; \r\n",
                "- `UNION` and `EXCEPT` are evaluated <u>in order of appearance</u>."
            ],
            "metadata": {
                "azdata_cell_guid": "8ddc21e1-1707-4b3d-85c7-805ba52e179b"
            },
            "attachments": {}
        },
        {
            "cell_type": "code",
            "source": [
                "-- The INTERSECT operator is evaluated first, \r\n",
                "-- even though it appears second in the code.\r\n",
                "\r\n",
                "SELECT country, region, city FROM Production.Suppliers\r\n",
                "EXCEPT\r\n",
                "SELECT country, region, city FROM HR.Employees\r\n",
                "INTERSECT\r\n",
                "SELECT country, region, city FROM Sales.Customers;"
            ],
            "metadata": {
                "azdata_cell_guid": "c98f7dd0-03fa-41df-9f88-314079b7be40",
                "language": "sql"
            },
            "outputs": [],
            "execution_count": null
        },
        {
            "cell_type": "code",
            "source": [
                "-- To control the order of evaluation of set operators, \r\n",
                "-- use parentheses, because they have the highest precedence\r\n",
                "-- and they increase the readability.\r\n",
                "\r\n",
                "(SELECT country, region, city FROM Production.Suppliers\r\n",
                " EXCEPT\r\n",
                " SELECT country, region, city FROM HR.Employees)\r\n",
                "INTERSECT\r\n",
                "SELECT country, region, city FROM Sales.Customers;"
            ],
            "metadata": {
                "language": "sql",
                "azdata_cell_guid": "f59ccbfc-e2c6-4106-a038-d9add3f5c93f"
            },
            "outputs": [
                {
                    "output_type": "display_data",
                    "data": {
                        "text/html": "(3 rows affected)"
                    },
                    "metadata": {}
                },
                {
                    "output_type": "display_data",
                    "data": {
                        "text/html": "Total execution time: 00:00:00.072"
                    },
                    "metadata": {}
                },
                {
                    "output_type": "execute_result",
                    "metadata": {},
                    "execution_count": 3,
                    "data": {
                        "application/vnd.dataresource+json": {
                            "schema": {
                                "fields": [
                                    {
                                        "name": "country"
                                    },
                                    {
                                        "name": "region"
                                    },
                                    {
                                        "name": "city"
                                    }
                                ]
                            },
                            "data": [
                                {
                                    "country": "Canada",
                                    "region": "Québec",
                                    "city": "Montréal"
                                },
                                {
                                    "country": "France",
                                    "region": "NULL",
                                    "city": "Paris"
                                },
                                {
                                    "country": "Germany",
                                    "region": "NULL",
                                    "city": "Berlin"
                                }
                            ]
                        },
                        "text/html": [
                            "<table>",
                            "<tr><th>country</th><th>region</th><th>city</th></tr>",
                            "<tr><td>Canada</td><td>Québec</td><td>Montréal</td></tr>",
                            "<tr><td>France</td><td>NULL</td><td>Paris</td></tr>",
                            "<tr><td>Germany</td><td>NULL</td><td>Berlin</td></tr>",
                            "</table>"
                        ]
                    }
                }
            ],
            "execution_count": 3
        }
    ]
}