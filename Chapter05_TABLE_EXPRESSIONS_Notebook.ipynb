{
    "metadata": {
        "kernelspec": {
            "name": "SQL",
            "display_name": "SQL",
            "language": "sql"
        },
        "language_info": {
            "name": "sql",
            "version": ""
        }
    },
    "nbformat_minor": 2,
    "nbformat": 4,
    "cells": [
        {
            "cell_type": "markdown",
            "source": [
                "# Table Expressions"
            ],
            "metadata": {
                "azdata_cell_guid": "c0b83122-2a83-470f-8bab-5def83eb2ef2"
            },
            "attachments": {}
        },
        {
            "cell_type": "markdown",
            "source": [
                "## Introduction\r\n",
                "\r\n",
                "**Table expressions** in T-SQL are named **query expressions** that represent a table. They are <u>used to simplify complex queries</u> and improve readability.\r\n",
                "\r\n",
                "They allow for efficient and flexible querying. They enable better modularity and reuse of queries.\r\n",
                "\r\n",
                "There are four main types of **table expressions**:\r\n",
                "1. Derived Tables.\r\n",
                "2. Common Table EXpressions(CTEs).\r\n",
                "3. Views.\r\n",
                "4. Inline Table-Valued Functions (TVFs)"
            ],
            "metadata": {
                "azdata_cell_guid": "65e2e129-3f7b-4ecc-a088-fae6ce6e8d12"
            },
            "attachments": {}
        },
        {
            "cell_type": "markdown",
            "source": [
                "1. **Derived Tables**:\r\n",
                "- These are _subqueries in the FROM clause_ that are given an alias.\r\n",
                "- They exist only for the _duration of the query_.\r\n",
                "\r\n",
                "    &emsp;&emsp;&emsp;&emsp;SELECT *<br>\r\n",
                "    &emsp;&emsp;&emsp;&emsp;FROM `(SELECT column1, column2 FROM table1)` AS DerivedTable\r\n",
                "\r\n",
                "    <hr>"
            ],
            "metadata": {
                "azdata_cell_guid": "56da77e4-f34d-491e-8bce-0eba472f4ed8"
            },
            "attachments": {}
        },
        {
            "cell_type": "markdown",
            "source": [
                "2. **Commond Table Expressions _(CTEs)_**:\r\n",
                "- These are _temporary result sets_ that can be referenced within a SELECT, INSERT, UPDATE, or DELETE statement.\r\n",
                "- They are defined using the _WITH_ keyword."
            ],
            "metadata": {
                "azdata_cell_guid": "4bdfef8b-49aa-4a0c-92f7-4d5b778c2d80"
            },
            "attachments": {}
        },
        {
            "cell_type": "markdown",
            "source": [
                "&emsp;&emsp;&emsp;_WITH CTE AS_<br>\r\n",
                "&emsp;&emsp;&emsp;`(`<br>\r\n",
                "&emsp;&emsp;&emsp;&emsp;`SELECT column1, column2`<br>\r\n",
                "&emsp;&emsp;&emsp;&emsp;`FROM table1`<br>\r\n",
                "&emsp;&emsp;&emsp;`)`<br>\r\n",
                "&emsp;&emsp;&emsp;_SELECT *_<br>\r\n",
                "&emsp;&emsp;&emsp;_FROM CT_\r\n",
                "\r\n",
                "<hr>"
            ],
            "metadata": {
                "azdata_cell_guid": "b1ef7bf1-4747-40f4-a309-baeb5547303b"
            },
            "attachments": {}
        },
        {
            "cell_type": "markdown",
            "source": [
                "3. **Views**: \r\n",
                "- These are _virtual tables_ that are defined by a SELECT query.\r\n",
                "- They are _stored in the database_ and can be queried like regular tables.\r\n",
                "\r\n",
                "&emsp;&emsp;&emsp;&emsp;_`CREATE VIEW ViewName AS`_<br>\r\n",
                "&emsp;&emsp;&emsp;&emsp;`SELECT column1, column2`<br>\r\n",
                "&emsp;&emsp;&emsp;&emsp;`FROM table1`\r\n",
                "\r\n",
                "<hr>"
            ],
            "metadata": {
                "azdata_cell_guid": "99153aea-3a53-4d9b-8f7a-1962d1cb2aa0"
            },
            "attachments": {}
        },
        {
            "cell_type": "markdown",
            "source": [
                "4. **Inline Table-Valued Functions _(TVFs)_**: \r\n",
                "- These are _functions_ that return a table. \r\n",
                "- They are defined using the _RETURNS TABLE_ clause.\r\n",
                "\r\n",
                "&emsp;&emsp;&emsp;&emsp;_CREATE FUNCTION `FunctionName()`_<br>\r\n",
                "&emsp;&emsp;&emsp;&emsp;_RETURNS TABLE_<br>\r\n",
                "&emsp;&emsp;&emsp;&emsp;_AS_<br>\r\n",
                "&emsp;&emsp;&emsp;&emsp;_RETURN_ `(`<br>\r\n",
                "&emsp;&emsp;&emsp;&emsp;&emsp;&emsp;`SELECT column1, column2`<br>\r\n",
                "&emsp;&emsp;&emsp;&emsp;&emsp;&emsp;`FROM table1`<br>\r\n",
                "&emsp;&emsp;&emsp;&emsp;`)`\r\n",
                "\r\n",
                "<hr>"
            ],
            "metadata": {
                "language": "sql",
                "azdata_cell_guid": "fe4c2e06-882e-4512-9610-2fcd21ea380d"
            },
            "attachments": {}
        },
        {
            "cell_type": "markdown",
            "source": [
                "#### Example of Derived Table\r\n",
                "\r\n",
                "- Define a derived table called _USACusts_ based on a query that returns all customers from the United States, and the outer query selects all rows from the derived table.\r\n",
                ""
            ],
            "metadata": {
                "language": "sql",
                "azdata_cell_guid": "601f1ef8-ce44-4fcf-9875-903a75cae948"
            },
            "attachments": {}
        },
        {
            "cell_type": "code",
            "source": [
                "SELECT *\r\n",
                "FROM (SELECT custid, companyname\r\n",
                "      FROM Sales.Customers\r\n",
                "      WHERE country = N'USA') AS USACusts"
            ],
            "metadata": {
                "language": "sql",
                "azdata_cell_guid": "73b9256c-ae1a-40cb-8b48-6aa61ff78bea"
            },
            "outputs": [],
            "execution_count": null
        },
        {
            "cell_type": "markdown",
            "source": [
                "With all types of table expressions, a query must meet **_three requirements_** to be a <u>valid inner query</u> in a table expression definition:\r\n",
                "\r\n",
                "- Order is not guaranteed.\r\n",
                "- All columns must have names.\r\n",
                "- All column names MUST be unique."
            ],
            "metadata": {
                "language": "sql",
                "azdata_cell_guid": "0c2d4cb9-7126-402b-be5f-0a244a0b858f"
            },
            "attachments": {}
        },
        {
            "cell_type": "markdown",
            "source": [
                "#### Assigning column aliases\r\n",
                "\r\n",
                "One of the benefits of using table expressions is that, in any clause of the outer query, you can refer to \r\n",
                "column aliases that were assigned in the SELECT clause of the inner query. "
            ],
            "metadata": {
                "language": "sql",
                "azdata_cell_guid": "7b0e8950-521e-4b45-8a39-fc9461ab6794"
            },
            "attachments": {}
        },
        {
            "cell_type": "code",
            "source": [
                "-- Error: \r\n",
                "\r\n",
                "/*\r\n",
                "The following attempt is invalid because the GROUP BY clause refers \r\n",
                "to a column alias that was assigned in the SELECT clause, and the GROUP BY\r\n",
                "clause is logically processed prior to the SELECT clause\r\n",
                "*/\r\n",
                "\r\n",
                "SELECT\r\n",
                "  YEAR(orderdate) AS orderyear,\r\n",
                "  COUNT(DISTINCT custid) AS numcusts\r\n",
                "FROM Sales.Orders\r\n",
                "GROUP BY orderyear;\r\n",
                "\r\n",
                "-- One solution: YEAR(orderdate) in both the GROUP BY and SELECT clauses"
            ],
            "metadata": {
                "language": "sql",
                "azdata_cell_guid": "12bc7f78-01a6-4450-a187-0bc10fddcfdc"
            },
            "outputs": [],
            "execution_count": null
        },
        {
            "cell_type": "code",
            "source": [
                "-- To avoid the repetition of the code\r\n",
                "\r\n",
                "SELECT orderyear, COUNT(DISTINCT custid) AS numcusts\r\n",
                "FROM (SELECT YEAR(orderdate) AS orderyear, custid\r\n",
                "      FROM Sales.Orders) AS D\r\n",
                "GROUP BY orderyear;"
            ],
            "metadata": {
                "language": "sql",
                "azdata_cell_guid": "00da56c6-7bf6-41c3-9cf4-fd4ead40f4c0"
            },
            "outputs": [],
            "execution_count": null
        },
        {
            "cell_type": "markdown",
            "source": [
                "It uses the inline aliasing form to assign column aliases to expressions.\r\n",
                "\r\n",
                "The syntax for inline aliasing is `<expression> [AS] <alias>`. \r\n",
                "\r\n",
                "- Note that the word `AS` is optional in the syntax for inline aliasing; however, it helps the readability of the code and **recommend using it**.\r\n",
                ""
            ],
            "metadata": {
                "language": "sql",
                "azdata_cell_guid": "03614dbc-9fb4-4429-bada-5ce22a2288d0"
            },
            "attachments": {}
        },
        {
            "cell_type": "code",
            "source": [
                "SELECT orderyear, COUNT(DISTINCT custid) AS numcusts\r\n",
                "FROM (SELECT YEAR(orderdate), custid\r\n",
                "      FROM Sales.Orders) AS D(orderyear, custid)\r\n",
                "GROUP BY orderyear;"
            ],
            "metadata": {
                "language": "sql",
                "azdata_cell_guid": "2d682048-6b40-4430-98dc-81caa1cb26cf"
            },
            "outputs": [],
            "execution_count": null
        },
        {
            "cell_type": "markdown",
            "source": [
                "#### Using arguments\r\n",
                "\r\n",
                "- Local Variables\r\n",
                "- Input parameters to a routine (stored procedure or function)"
            ],
            "metadata": {
                "language": "sql",
                "azdata_cell_guid": "990a5106-c34e-4553-b041-2a97be6e045e"
            },
            "attachments": {}
        },
        {
            "cell_type": "code",
            "source": [
                "DECLARE @empid AS INT = 3;\r\n",
                "\r\n",
                "SELECT orderyear, COUNT(DISTINCT custid) AS numcusts\r\n",
                "FROM (SELECT YEAR(orderdate) AS orderyear, custid\r\n",
                "      FROM Sales.Orders\r\n",
                "      WHERE empid = @empid) AS D\r\n",
                "GROUP BY orderyear;"
            ],
            "metadata": {
                "language": "sql",
                "azdata_cell_guid": "24a6b0df-aac2-43cc-a779-044653bb1e91"
            },
            "outputs": [],
            "execution_count": null
        },
        {
            "cell_type": "markdown",
            "source": [
                "#### Nesting\r\n",
                "\r\n",
                "- The inner query (subquery) is executed first.\r\n",
                "\r\n",
                "Be careful: Nesting tends to complicate the code and reduces its readability."
            ],
            "metadata": {
                "language": "sql",
                "azdata_cell_guid": "c3d11785-c382-4b09-b313-89dfa39c5d66"
            },
            "attachments": {}
        },
        {
            "cell_type": "code",
            "source": [
                "-- Nested derived tables\r\n",
                "\r\n",
                "SELECT orderyear, numcusts\r\n",
                "FROM (SELECT orderyear, COUNT(DISTINCT custid) AS numcusts\r\n",
                "    FROM (SELECT YEAR(orderdate) AS orderyear, custid\r\n",
                "        FROM Sales.Orders) AS D1\r\n",
                "    GROUP BY orderyear) AS D2\r\n",
                "WHERE numcusts > 70;"
            ],
            "metadata": {
                "language": "sql",
                "azdata_cell_guid": "d560503a-701c-4bc4-9108-fb9789f06856"
            },
            "outputs": [],
            "execution_count": null
        },
        {
            "cell_type": "markdown",
            "source": [
                "#### Multiple references\r\n",
                "\r\n",
                "The fact that you cannot refer to multiple instances of the same derived table in the same join forces you to maintain multiple copies of the same query definition. This leads to lengthy code that is hard to maintain and prone to errors."
            ],
            "metadata": {
                "language": "sql",
                "azdata_cell_guid": "01e42865-a323-45cf-bf96-1cd57aefa7f7"
            },
            "attachments": {}
        },
        {
            "cell_type": "code",
            "source": [
                "SELECT  Cur.orderyear,\r\n",
                "        Cur.numcusts AS curnumcusts, Prv.numcusts AS prvnumcusts,\r\n",
                "        Cur.numcusts - Prv.numcusts AS growth\r\n",
                "FROM (SELECT YEAR(orderdate) AS orderyear,\r\n",
                "             COUNT(DISTINCT custid) AS numcusts\r\n",
                "      FROM Sales.Orders\r\n",
                "      GROUP BY YEAR(orderdate)) AS Cur\r\n",
                "LEFT OUTER JOIN\r\n",
                "     (SELECT YEAR(orderdate) AS orderyear,\r\n",
                "             COUNT(DISTINCT custid) AS numcusts\r\n",
                "      FROM Sales.Orders\r\n",
                "      GROUP BY YEAR(orderdate)) AS Prv\r\n",
                "ON Cur.orderyear = Prv.orderyear + 1;"
            ],
            "metadata": {
                "language": "sql",
                "azdata_cell_guid": "af487b28-8c10-49b2-b6bd-0a7e6927829a"
            },
            "outputs": [],
            "execution_count": null
        },
        {
            "cell_type": "markdown",
            "source": [
                "#### Common Table Expressions (CTEs)\r\n",
                "\r\n",
                "- Are defined by using a `WITH` statement."
            ],
            "metadata": {
                "language": "sql",
                "azdata_cell_guid": "b6d1ab6d-61d6-4278-9123-9eb8ec415e74"
            },
            "attachments": {}
        },
        {
            "cell_type": "code",
            "source": [
                "/* SYNTAX:\r\n",
                "\r\n",
                "WITH <CTE_Name>[(<target_column_list>)]\r\n",
                "AS\r\n",
                "(\r\n",
                "  <inner_query_defining_CTE>\r\n",
                ")\r\n",
                "<outer_query_against_CTE>;\r\n",
                "\r\n",
                "*/"
            ],
            "metadata": {
                "language": "sql",
                "azdata_cell_guid": "e01b1402-9f6e-43ee-952d-523ab141a043"
            },
            "outputs": [],
            "execution_count": null
        },
        {
            "cell_type": "markdown",
            "source": [
                "The following code defines a **CTE** called _USACusts_ based on a query that returns all customers from the United States, and the outer query selects all rows from the **CTE**:"
            ],
            "metadata": {
                "language": "sql",
                "azdata_cell_guid": "cc606e37-b7ba-48b9-a7b9-fa815d087335"
            },
            "attachments": {}
        },
        {
            "cell_type": "code",
            "source": [
                "WITH USACusts AS\r\n",
                "(\r\n",
                "  SELECT custid, companyname\r\n",
                "  FROM Sales.Customers\r\n",
                "  WHERE country = N'USA'\r\n",
                ")\r\n",
                "SELECT * FROM USACusts;"
            ],
            "metadata": {
                "language": "sql",
                "azdata_cell_guid": "b1f0e230-d593-494e-b6b8-7c3e1abd4f0a"
            },
            "outputs": [],
            "execution_count": null
        },
        {
            "cell_type": "markdown",
            "source": [
                "#### Assigning Column Aliases in CTEs\r\n",
                "\r\n",
                "- CTEs also support two forms of column aliasing: _inline_ and _external_."
            ],
            "metadata": {
                "language": "sql",
                "azdata_cell_guid": "b771a6c9-7c5b-4c7e-b048-a7820539a63c"
            },
            "attachments": {}
        },
        {
            "cell_type": "markdown",
            "source": [
                "- <u>Inline</u>: `<expression> AS <column_alias>;`"
            ],
            "metadata": {
                "language": "sql",
                "azdata_cell_guid": "72f8c08a-048d-47cb-a49e-de9cf4cad231"
            },
            "attachments": {}
        },
        {
            "cell_type": "code",
            "source": [
                "-- Inline\r\n",
                "\r\n",
                "WITH C AS\r\n",
                "(\r\n",
                "  SELECT YEAR(orderdate) AS orderyear, custid\r\n",
                "  FROM Sales.Orders\r\n",
                ")\r\n",
                "SELECT orderyear, COUNT(DISTINCT custid) AS numcusts\r\n",
                "FROM C\r\n",
                "GROUP BY orderyear;"
            ],
            "metadata": {
                "language": "sql",
                "azdata_cell_guid": "0bf13bd3-fde1-4461-9e85-23c9e8ce0b3d"
            },
            "outputs": [],
            "execution_count": null
        },
        {
            "cell_type": "markdown",
            "source": [
                "- <u>External</u>:  specifying the target column list in parentheses immediately after the CTE name."
            ],
            "metadata": {
                "language": "sql",
                "azdata_cell_guid": "8083a02f-cb45-4e26-ab20-c6329ab3d305"
            },
            "attachments": {}
        },
        {
            "cell_type": "code",
            "source": [
                "-- External\r\n",
                "\r\n",
                "WITH C(orderyear, custid) AS\r\n",
                "(\r\n",
                "  SELECT YEAR(orderdate), custid\r\n",
                "  FROM Sales.Orders\r\n",
                ")\r\n",
                "SELECT orderyear, COUNT(DISTINCT custid) AS numcusts\r\n",
                "FROM C\r\n",
                "GROUP BY orderyear;"
            ],
            "metadata": {
                "language": "sql",
                "azdata_cell_guid": "99a068ff-4ec4-4934-89e2-1b7ea605a8a3"
            },
            "outputs": [],
            "execution_count": null
        },
        {
            "cell_type": "markdown",
            "source": [
                "#### Using Arguments in CTEs\r\n",
                "\r\n",
                "- CTEs can reference variables or arguments passed to the query."
            ],
            "metadata": {
                "language": "sql",
                "azdata_cell_guid": "33a5603e-4c0d-4198-9bee-2debee2746be"
            },
            "attachments": {}
        },
        {
            "cell_type": "code",
            "source": [
                "DECLARE @empid AS INT = 3;\r\n",
                "WITH C AS\r\n",
                "(\r\n",
                "  SELECT YEAR(orderdate) AS orderyear, custid\r\n",
                "  FROM Sales.Orders\r\n",
                "  WHERE empid = @empid\r\n",
                ")\r\n",
                "SELECT orderyear, COUNT(DISTINCT custid) AS numcusts\r\n",
                "FROM C\r\n",
                "GROUP BY orderyear;"
            ],
            "metadata": {
                "language": "sql",
                "azdata_cell_guid": "63b6b485-8973-4f4f-82cf-a6a48f3150cf"
            },
            "outputs": [],
            "execution_count": null
        },
        {
            "cell_type": "markdown",
            "source": [
                "#### Defining Multiple CTEs\r\n",
                "\r\n",
                "- You can define more than one CTE in a query, separated by commas."
            ],
            "metadata": {
                "language": "sql",
                "azdata_cell_guid": "3b1a88e5-4234-4c5f-8b1f-24870de16628"
            },
            "attachments": {}
        },
        {
            "cell_type": "code",
            "source": [
                "WITH C1 AS\r\n",
                "(\r\n",
                "  SELECT YEAR(orderdate) AS orderyear, custid\r\n",
                "  FROM Sales.Orders\r\n",
                "),\r\n",
                "    C2 AS\r\n",
                "(\r\n",
                "  SELECT orderyear, COUNT(DISTINCT custid) AS numcusts\r\n",
                "  FROM C1\r\n",
                "  GROUP BY orderyear\r\n",
                ")\r\n",
                "SELECT orderyear, numcusts\r\n",
                "FROM C2\r\n",
                "WHERE numcusts > 70;"
            ],
            "metadata": {
                "language": "sql",
                "azdata_cell_guid": "cb7b6c44-3a50-45cd-87e8-e08886292e58"
            },
            "outputs": [],
            "execution_count": null
        },
        {
            "cell_type": "markdown",
            "source": [
                "#### Multiple References in CTEs\r\n",
                "\r\n",
                "- You can refer to a CTE multiple times in the query.\r\n",
                "\r\n",
                "In the following code, the CTE _YearlyCount_ is defined <u>only once</u> and <u>accessed twice</u> in the FROM clause of the outer query—once as _Cur_ and once as _Prv_."
            ],
            "metadata": {
                "language": "sql",
                "azdata_cell_guid": "f343ad58-5a2e-4121-a34f-1944530de8c7"
            },
            "attachments": {}
        },
        {
            "cell_type": "code",
            "source": [
                "WITH YearlyCount AS\r\n",
                "(\r\n",
                "  SELECT YEAR(orderdate) AS orderyear,\r\n",
                "    COUNT(DISTINCT custid) AS numcusts\r\n",
                "  FROM Sales.Orders\r\n",
                "  GROUP BY YEAR(orderdate)\r\n",
                ")\r\n",
                "SELECT Cur.orderyear,\r\n",
                "  Cur.numcusts AS curnumcusts, Prv.numcusts AS prvnumcusts,\r\n",
                "  Cur.numcusts - Prv.numcusts AS growth\r\n",
                "FROM YearlyCount AS Cur\r\n",
                "  LEFT OUTER JOIN YearlyCount AS Prv\r\n",
                "    ON Cur.orderyear = Prv.orderyear + 1;"
            ],
            "metadata": {
                "language": "sql",
                "azdata_cell_guid": "590e3071-ed69-4a9e-a75f-cdc62b854980"
            },
            "outputs": [],
            "execution_count": null
        },
        {
            "cell_type": "markdown",
            "source": [
                "#### Recursive CTEs\r\n",
                "\r\n",
                "- A recursive CTE allows you _to perform hierarchical or recursive_ queries.\r\n",
                "- It uses a <u>base</u> query and a <u>recursive</u> query that references the CTE itself."
            ],
            "metadata": {
                "language": "sql",
                "azdata_cell_guid": "a7fa7b0e-571b-4d06-a74e-6f9ec4424473"
            },
            "attachments": {}
        },
        {
            "cell_type": "code",
            "source": [
                "/* SYNTAX:\r\n",
                "\r\n",
                "WITH <CTE_Name>[(<target_column_list>)]\r\n",
                "AS\r\n",
                "(\r\n",
                "  <anchor_member>\r\n",
                "  UNION ALL\r\n",
                "  <recursive_member>\r\n",
                ")\r\n",
                "<outer_query_against_CTE>;\r\n",
                "\r\n",
                "*/"
            ],
            "metadata": {
                "language": "sql",
                "azdata_cell_guid": "a9654651-f2c4-4339-b530-bcc015e09318"
            },
            "outputs": [],
            "execution_count": null
        },
        {
            "cell_type": "markdown",
            "source": [
                "- The recursive member joins the CTE—representing the previous result set—with the _Employees_ table to **return the direct subordinates** of the employees returned in the previous result set:"
            ],
            "metadata": {
                "azdata_cell_guid": "e37a829e-761e-4c5d-a278-d997ae5e3c66"
            },
            "attachments": {}
        },
        {
            "cell_type": "code",
            "source": [
                "WITH EmpsCTE AS\r\n",
                "(\r\n",
                "  SELECT empid, mgrid, firstname, lastname\r\n",
                "  FROM HR.Employees\r\n",
                "  WHERE empid = 2\r\n",
                "  \r\n",
                "  UNION ALL\r\n",
                "  \r\n",
                "  SELECT C.empid, C.mgrid, C.firstname, C.lastname\r\n",
                "  FROM EmpsCTE AS P\r\n",
                "    INNER JOIN HR.Employees AS C\r\n",
                "      ON C.mgrid = P.empid\r\n",
                ")\r\n",
                "SELECT empid, mgrid, firstname, lastname\r\n",
                "FROM EmpsCTE;"
            ],
            "metadata": {
                "language": "sql",
                "azdata_cell_guid": "dd9f54c9-e7f5-4a1f-b9f0-bf8efac5f8ee"
            },
            "outputs": [],
            "execution_count": null
        },
        {
            "cell_type": "markdown",
            "source": [
                "#### Views\r\n",
                "\r\n",
                "- A view is a stored query that you can treat as a table."
            ],
            "metadata": {
                "language": "sql",
                "azdata_cell_guid": "3ef6fe55-c247-4502-809a-f02104a5f06a"
            },
            "attachments": {}
        },
        {
            "cell_type": "code",
            "source": [
                "CREATE OR ALTER VIEW Sales.USACusts\r\n",
                "AS\r\n",
                "SELECT\r\n",
                "  custid, companyname, contactname, contacttitle, address,\r\n",
                "  city, region, postalcode, country, phone, fax\r\n",
                "FROM Sales.Customers\r\n",
                "WHERE country = N'USA';\r\n",
                "GO\r\n",
                "\r\n",
                "-- DROP VIEW IF EXISTS Sales.USACusts;\r\n",
                "-- GO"
            ],
            "metadata": {
                "language": "sql",
                "azdata_cell_guid": "a6d2ced3-1682-4a72-b611-5726570e4456"
            },
            "outputs": [],
            "execution_count": null
        },
        {
            "cell_type": "markdown",
            "source": [
                "#### Views and the ORDER BY Clause\r\n",
                "\r\n",
                "- You cannot use `ORDER BY` in a view directly, unless it is accompanied by `TOP` or `OFFSET-FETCH`."
            ],
            "metadata": {
                "language": "sql",
                "azdata_cell_guid": "f47126f1-a238-4c77-828b-ace313344768"
            },
            "attachments": {}
        },
        {
            "cell_type": "code",
            "source": [
                "-- Error\r\n",
                "\r\n",
                "CREATE OR ALTER VIEW Sales.USACusts\r\n",
                "AS\r\n",
                "SELECT\r\n",
                "  custid, companyname, contactname, contacttitle, address,\r\n",
                "  city, region, postalcode, country, phone, fax\r\n",
                "FROM Sales.Customers\r\n",
                "WHERE country = N'USA'\r\n",
                "ORDER BY region;\r\n",
                "GO\r\n",
                "\r\n",
                "-- DROP VIEW IF EXISTS Sales.USACusts;\r\n",
                "-- GO"
            ],
            "metadata": {
                "language": "sql",
                "azdata_cell_guid": "69256cf8-0e50-4f37-ae2e-066c83526e61"
            },
            "outputs": [],
            "execution_count": null
        },
        {
            "cell_type": "code",
            "source": [
                "-- Using TOP clause\r\n",
                "\r\n",
                "CREATE OR ALTER VIEW Sales.USACusts\r\n",
                "AS\r\n",
                "SELECT TOP (100) PERCENT\r\n",
                "  custid, companyname, contactname, contacttitle, address,\r\n",
                "  city, region, postalcode, country, phone, fax\r\n",
                "FROM Sales.Customers\r\n",
                "WHERE country = N'USA'\r\n",
                "ORDER BY region;\r\n",
                "GO\r\n",
                "\r\n",
                "-- SELECT custid, companyname, region\r\n",
                "-- FROM Sales.USACusts;"
            ],
            "metadata": {
                "language": "sql",
                "azdata_cell_guid": "558ea0a1-251d-4dfa-9abc-79d4ae272096"
            },
            "outputs": [],
            "execution_count": null
        },
        {
            "cell_type": "code",
            "source": [
                "-- OFFSET clause with 0 ROWS, and without a FETCH clause.\r\n",
                "\r\n",
                "CREATE OR ALTER VIEW Sales.USACusts\r\n",
                "AS\r\n",
                "SELECT\r\n",
                "  custid, companyname, contactname, contacttitle, address,\r\n",
                "  city, region, postalcode, country, phone, fax\r\n",
                "FROM Sales.Customers\r\n",
                "WHERE country = N'USA'\r\n",
                "ORDER BY region\r\n",
                "OFFSET 0 ROWS;\r\n",
                "GO"
            ],
            "metadata": {
                "azdata_cell_guid": "b3a45b36-a062-47ad-9b25-4e42e0afc695",
                "language": "sql"
            },
            "outputs": [],
            "execution_count": null
        },
        {
            "cell_type": "markdown",
            "source": [
                "#### View Options (ENCRYPTION, SCHEMABINDING, CHECK OPTION)\r\n",
                "\r\n",
                "- Views can have options like `ENCRYPTION` to hide their definition, \r\n",
                "- `SCHEMABINDING` to bind to the schema of underlying tables, \r\n",
                "- and `CHECK OPTION` to enforce data integrity (it prevents modifications)."
            ],
            "metadata": {
                "language": "sql",
                "azdata_cell_guid": "1c192ab5-12ca-45b1-af64-2f35105682e8"
            },
            "attachments": {}
        },
        {
            "cell_type": "code",
            "source": [
                "-- Without Encryption\r\n",
                "\r\n",
                "CREATE OR ALTER VIEW Sales.USACusts\r\n",
                "AS\r\n",
                "SELECT\r\n",
                "  custid, companyname, contactname, contacttitle, address,\r\n",
                "  city, region, postalcode, country, phone, fax\r\n",
                "FROM Sales.Customers\r\n",
                "WHERE country = N'USA';\r\n",
                "GO"
            ],
            "metadata": {
                "language": "sql",
                "azdata_cell_guid": "8e2a0eed-7e6a-491d-9d3f-85989cd620d1",
                "tags": []
            },
            "outputs": [],
            "execution_count": null
        },
        {
            "cell_type": "code",
            "source": [
                "SELECT OBJECT_DEFINITION(OBJECT_ID('Sales.USACusts'));"
            ],
            "metadata": {
                "azdata_cell_guid": "bb67c883-7113-4e2a-bbaa-dd8dc81dbf6c",
                "language": "sql"
            },
            "outputs": [],
            "execution_count": null
        },
        {
            "cell_type": "code",
            "source": [
                "-- ENCRYPTION option\r\n",
                "\r\n",
                "-- DROP VIEW IF EXISTS Sales.USACusts;\r\n",
                "-- GO\r\n",
                "\r\n",
                "CREATE OR ALTER VIEW Sales.USACusts WITH ENCRYPTION\r\n",
                "AS\r\n",
                "SELECT\r\n",
                "  custid, companyname, contactname, contacttitle, address,\r\n",
                "  city, region, postalcode, country, phone, fax\r\n",
                "FROM Sales.Customers\r\n",
                "WHERE country = N'USA';\r\n",
                "GO\r\n",
                ""
            ],
            "metadata": {
                "language": "sql",
                "azdata_cell_guid": "beb63565-aaf3-477a-8a1f-c326bc86733b"
            },
            "outputs": [],
            "execution_count": null
        },
        {
            "cell_type": "code",
            "source": [
                "-- SCHEMABINDING option\r\n",
                "\r\n",
                "-- DROP VIEW IF EXISTS Sales.USACusts;\r\n",
                "-- GO\r\n",
                "\r\n",
                "CREATE OR ALTER VIEW Sales.USACusts WITH SCHEMABINDING\r\n",
                "AS\r\n",
                "SELECT\r\n",
                "  custid, companyname, contactname, contacttitle, address,\r\n",
                "  city, region, postalcode, country, phone, fax\r\n",
                "FROM Sales.Customers\r\n",
                "WHERE country = N'USA';\r\n",
                "GO"
            ],
            "metadata": {
                "language": "sql",
                "azdata_cell_guid": "a400ea03-1a16-4f81-a6fe-06df0f5c4e54"
            },
            "outputs": [],
            "execution_count": null
        },
        {
            "cell_type": "code",
            "source": [
                "-- CHECK OPTION\r\n",
                "\r\n",
                "CREATE OR ALTER VIEW Sales.USACusts WITH SCHEMABINDING\r\n",
                "AS\r\n",
                "SELECT\r\n",
                "  custid, companyname, contactname, contacttitle, address,\r\n",
                "  city, region, postalcode, country, phone, fax\r\n",
                "FROM Sales.Customers\r\n",
                "WHERE country = N'USA'\r\n",
                "WITH CHECK OPTION;\r\n",
                "GO"
            ],
            "metadata": {
                "language": "sql",
                "azdata_cell_guid": "264c581d-992f-43d6-8e3a-0e2ded9038bc"
            },
            "outputs": [],
            "execution_count": null
        },
        {
            "cell_type": "code",
            "source": [
                "-- Error if CHECK OPTION\r\n",
                "\r\n",
                "/*\r\n",
                "\r\n",
                "INSERT INTO Sales.USACusts(\r\n",
                "  companyname, contactname, contacttitle, address,\r\n",
                "  city, region, postalcode, country, phone, fax)\r\n",
                " VALUES(\r\n",
                "  N'Customer FGHIJ', N'Contact FGHIJ', N'Title FGHIJ', N'Address FGHIJ',\r\n",
                "  N'London', NULL, N'12345', N'UK', N'012-3456789', N'012-3456789');\r\n",
                "\r\n",
                "-- When Done:\r\n",
                "DELETE FROM Sales.Customers\r\n",
                "WHERE custid > 91;\r\n",
                "\r\n",
                "DROP VIEW IF EXISTS Sales.USACusts;\r\n",
                "\r\n",
                "*/"
            ],
            "metadata": {
                "language": "sql",
                "azdata_cell_guid": "373a0469-2983-4093-8614-dfc474139952"
            },
            "outputs": [],
            "execution_count": null
        },
        {
            "cell_type": "markdown",
            "source": [
                "#### Inline Table-Valued Functions (TVFs)\r\n",
                "\r\n",
                "- An inline table-valued function is a function that returns a table.\r\n",
                "- Inline TVFs are _reusable table expressions_ that support input parameters.\r\n",
                "- It is similar to a view but with parameters."
            ],
            "metadata": {
                "language": "sql",
                "azdata_cell_guid": "1bd6be26-3b08-4180-ae33-08032cb08447"
            },
            "attachments": {}
        },
        {
            "cell_type": "markdown",
            "source": [
                "The following code creates an inline TVF called _GetCustOrders_ in the TSQLV6 database:"
            ],
            "metadata": {
                "language": "sql",
                "azdata_cell_guid": "1b2c93db-cb79-43a2-b591-95e0bda0a74f"
            },
            "attachments": {}
        },
        {
            "cell_type": "code",
            "source": [
                "USE TSQLV6;\r\n",
                "GO\r\n",
                "CREATE OR ALTER FUNCTION dbo.GetCustOrders\r\n",
                " (@cid AS INT) RETURNS TABLE -- mandatory in the header\r\n",
                "AS\r\n",
                "RETURN -- mandatory before the inner query\r\n",
                " SELECT orderid, custid, empid, orderdate, requireddate,\r\n",
                " shippeddate, shipperid, freight, shipname, shipaddress, shipcity,\r\n",
                " shipregion, shippostalcode, shipcountry\r\n",
                " FROM Sales.Orders\r\n",
                " WHERE custid = @cid;\r\n",
                "GO"
            ],
            "metadata": {
                "language": "sql",
                "azdata_cell_guid": "ac22a4dc-66c2-4b9f-b49c-dce54affe7fe"
            },
            "outputs": [],
            "execution_count": null
        },
        {
            "cell_type": "code",
            "source": [
                "-- Retrieve results\r\n",
                "\r\n",
                "SELECT O.orderid, O.custid, OD.productid, OD.qty\r\n",
                "FROM dbo.GetCustOrders(1) AS O\r\n",
                "    INNER JOIN Sales.OrderDetails AS OD\r\n",
                "        ON O.orderid = OD.orderid;\r\n",
                "\r\n",
                "-- DROP FUNCTION IF EXISTS dbo.GetCustOrders;"
            ],
            "metadata": {
                "language": "sql",
                "azdata_cell_guid": "2ed97799-a202-488f-8565-3944bc82be9a"
            },
            "outputs": [],
            "execution_count": null
        },
        {
            "cell_type": "markdown",
            "source": [
                "#### The APPLY Operator\r\n",
                "\r\n",
                "The APPLY operator allows you _to join a table to a table-valued function_ or derived table that references the outer query.\r\n",
                "\r\n",
                "_**Note**_ _APPLY_ isn’t standard; the standard counterpart is called _LATERAL_, but the standard form wasn’t implemented in SQL Server.\r\n",
                "\r\n",
                "- The _APPLY_ operator operates on two input tables; we can refer to them as the “left” and “right” tables. \r\n",
                "The right table is typically a derived table or a TVF.\r\n",
                "- The CROSS APPLY operator implements one logical-query processing phase—it applies the right table to each row from the left table and produces a result table with the unified result sets"
            ],
            "metadata": {
                "language": "sql",
                "azdata_cell_guid": "f54f3e14-0150-41ec-998e-2582a7dc79e1"
            },
            "attachments": {}
        },
        {
            "cell_type": "code",
            "source": [
                "-- CROSS JOIN\r\n",
                "\r\n",
                "SELECT S.shipperid, E.empid\r\n",
                "FROM Sales.Shippers AS S\r\n",
                " CROSS JOIN HR.Employees AS E;\r\n",
                "\r\n",
                "-- Remember that a join treats its two inputs as a set, \r\n",
                "-- and therefore there’s no order between them."
            ],
            "metadata": {
                "language": "sql",
                "azdata_cell_guid": "13d579a0-5e85-44b3-8eb5-03a777412d38"
            },
            "outputs": [],
            "execution_count": null
        },
        {
            "cell_type": "code",
            "source": [
                "-- CROSS APPLY\r\n",
                "\r\n",
                "SELECT S.shipperid, E.empid\r\n",
                "FROM Sales.Shippers AS S\r\n",
                " CROSS APPLY HR.Employees AS E;\r\n",
                "\r\n",
                "-- With APPLY, the left side is evaluated first, \r\n",
                "-- and the right side is evaluated per row from the left. \r\n",
                "-- So the right side can have references to \r\n",
                "-- elements from the left.\r\n",
                "\r\n",
                "-- Those references are essentially CORRELATIONs."
            ],
            "metadata": {
                "language": "sql",
                "azdata_cell_guid": "b1dbdaab-d73c-434e-9005-9c8ca758277e"
            },
            "outputs": [],
            "execution_count": null
        },
        {
            "cell_type": "markdown",
            "source": [
                "Applying the CROSS APPLY operator to return the <u>three most recent orders for each customer</u>:"
            ],
            "metadata": {
                "language": "sql",
                "azdata_cell_guid": "7b03681b-7696-4b48-852d-b5cc22241a3b"
            },
            "attachments": {}
        },
        {
            "cell_type": "code",
            "source": [
                "SELECT C.custid, A.orderid, A.orderdate\r\n",
                "FROM Sales.Customers AS C\r\n",
                " CROSS APPLY\r\n",
                " (SELECT TOP (3) orderid, empid, orderdate, requireddate\r\n",
                " FROM Sales.Orders AS O\r\n",
                " WHERE O.custid = C.custid\r\n",
                " ORDER BY orderdate DESC, orderid DESC) AS A;"
            ],
            "metadata": {
                "language": "sql",
                "azdata_cell_guid": "61c40e76-0d68-4ffe-847f-24e437a03831"
            },
            "outputs": [],
            "execution_count": null
        },
        {
            "cell_type": "markdown",
            "source": [
                "Remember that you can use the standard `OFFSET-FETCH` option instead of `TOP`, like this:"
            ],
            "metadata": {
                "language": "sql",
                "azdata_cell_guid": "1703f79c-8181-4ad4-8e96-88c867ae9575"
            },
            "attachments": {}
        },
        {
            "cell_type": "code",
            "source": [
                "SELECT C.custid, A.orderid, A.orderdate\r\n",
                "FROM Sales.Customers AS C\r\n",
                " CROSS APPLY\r\n",
                "    (SELECT orderid, empid, orderdate, requireddate\r\n",
                "    FROM Sales.Orders AS O\r\n",
                "    WHERE O.custid = C.custid\r\n",
                "    ORDER BY orderdate DESC, orderid DESC\r\n",
                "    OFFSET 0 ROWS FETCH NEXT 3 ROWS ONLY) AS A;"
            ],
            "metadata": {
                "language": "sql",
                "azdata_cell_guid": "2c6f57ec-b8da-4b1d-9da2-75b788819447"
            },
            "outputs": [],
            "execution_count": null
        }
    ]
}